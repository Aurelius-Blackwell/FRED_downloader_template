{
 "cells": [
  {
   "cell_type": "markdown",
   "id": "60c94e39-b9f9-43d2-a5d6-ab6cafca14a5",
   "metadata": {},
   "source": [
    "# Prep API"
   ]
  },
  {
   "cell_type": "code",
   "execution_count": null,
   "id": "4f0331d2-5c1e-4ca2-810f-9df25685fb71",
   "metadata": {},
   "outputs": [],
   "source": [
    "# Commented out after installation\n",
    "# pip install fredapi"
   ]
  },
  {
   "cell_type": "code",
   "execution_count": 2,
   "id": "d0229161-55a3-44f6-8df6-d2e3cef26bd1",
   "metadata": {},
   "outputs": [],
   "source": [
    "# Libraries\n",
    "from pathlib import Path\n",
    "import ast\n",
    "import re\n",
    "import pandas as pd\n",
    "import numpy as np\n",
    "from fredapi import Fred\n",
    "fred = Fred(api_key='[YOUR OWN API KEY HERE AS A STRING]')"
   ]
  },
  {
   "cell_type": "code",
   "execution_count": 3,
   "id": "4276d9dc-f5a7-4459-bd47-815e17f7af01",
   "metadata": {},
   "outputs": [],
   "source": [
    "pd.set_option('display.max_columns',1000)    # There are going to be a lot of columns!"
   ]
  },
  {
   "cell_type": "code",
   "execution_count": 4,
   "id": "d31b0ba3-bce6-4502-ad35-18cedbb5024f",
   "metadata": {},
   "outputs": [],
   "source": [
    "# Prepare json of required data series. Can be generated via \"https://api.stlouisfed.org/fred/\" using own api key. See site for documentation.\n",
    "# Clean json file so that it is a [list of {dictionaries}] apporpriate for use with ast.literal_eval\n",
    "djson = open(Path.home() / 'Documents/fred_daily_json.txt', encoding='UTF-8')"
   ]
  },
  {
   "cell_type": "code",
   "execution_count": 5,
   "id": "45e7aa0e-eb0f-43a2-89ed-d8c873ec4050",
   "metadata": {},
   "outputs": [],
   "source": [
    "# Reads the json string from a txt file\n",
    "djson_content = djson.read()"
   ]
  },
  {
   "cell_type": "code",
   "execution_count": 6,
   "id": "81cf96ee-a2f6-4da3-bdd1-98ba70893b96",
   "metadata": {},
   "outputs": [],
   "source": [
    "# Converts the json string into a list of dictionaries\n",
    "ddict = ast.literal_eval(djson_content)"
   ]
  },
  {
   "cell_type": "code",
   "execution_count": 68,
   "id": "1bd991aa-1105-43fd-8927-17b1e51b7323",
   "metadata": {},
   "outputs": [],
   "source": [
    "# creates a new list of dictionaries, containing {id:title} per FRED series\n",
    "series_dicts = []\n",
    "# filter out discontinued datasets/outdated data\n",
    "for item in ddict:\n",
    "    idname = item['id']\n",    # searchable series id
    "    title = item['title']\n",    # human-legible series name
    "    date = item['observation_end']\n",
    "    if bool(re.search(\"DISCONTINUED\",title)) == True:\n",
    "        continue        \n",
    "    elif date <= '2025-07-06':\n",
    "        continue\n",
    "    else:\n",
    "        new_dict = dict()\n",
    "        new_dict['id']=idname\n",
    "        new_dict['title']=title\n",
    "        series_dicts.append(new_dict)"
   ]
  },
  {
   "cell_type": "code",
   "execution_count": 69,
   "id": "580939db-38c9-4729-aab3-dd1fa3f9a169",
   "metadata": {},
   "outputs": [
    {
     "data": {
      "text/plain": [
       "29"
      ]
     },
     "execution_count": 69,
     "metadata": {},
     "output_type": "execute_result"
    }
   ],
   "source": [
    "# Check number of datasets\n",
    "len(series_dicts)"
   ]
  },
  {
   "cell_type": "markdown",
   "id": "609cec14-369b-4c7a-8f33-1e742c2f5532",
   "metadata": {},
   "source": [
    "# Run API"
   ]
  },
  {
   "cell_type": "code",
   "execution_count": 70,
   "id": "a1844828-792b-45f9-9a54-819a0081fe59",
   "metadata": {},
   "outputs": [],
   "source": [
    "# Set anchor dataFrame. Their dates will serve as the index and determine frequency due to left joins (in this case, monthly, as this is CPI).\n",
    "df = pd.DataFrame(fred.get_series('CPIAUCSL').tail(1000))    # tail is 1000 most recent"
   ]
  },
  {
   "cell_type": "code",
   "execution_count": 71,
   "id": "1777b2e0-f313-44a6-bfed-ab48fdf20e1d",
   "metadata": {},
   "outputs": [],
   "source": [
    "# Specify column name\n",
    "df.columns = ['CPI (Urban, All Items Avg)']"
   ]
  },
  {
   "cell_type": "code",
   "execution_count": null,
   "id": "ba958385-2923-467f-a328-b162e3814756",
   "metadata": {},
   "outputs": [],
   "source": [
    "# Check\n",
    "df.head()"
   ]
  },
  {
   "cell_type": "code",
   "execution_count": 73,
   "id": "8526307c-d40e-4bc6-9e73-6fb818471d2b",
   "metadata": {},
   "outputs": [],
   "source": [
    "# Merges in each new dataset, as drawn from the json list above.\n",
    "df_merge = df\n",
    "for item in series_dicts:\n",
    "    # The while loop protects against internet outages while fred.get_series tries to call each series\n",
    "    while True:\n",
    "        try:\n",
    "            new_df = pd.DataFrame(fred.get_series(item['id']).tail(6500).rename(item['title']))\n",
    "            df_merge = df_merge.merge(new_df, left_index=True, right_index=True, how='left')\n",
    "            break\n",
    "        except:\n",
    "            pass"
   ]
  },
  {
   "cell_type": "markdown",
   "id": "7fc4648b-2f40-4373-abc3-88399a6bbb6f",
   "metadata": {},
   "source": [
    "# Save output"
   ]
  },
  {
   "cell_type": "code",
   "execution_count": null,
   "id": "fe38ec4e-b53b-44f3-a609-d88020a29f44",
   "metadata": {},
   "outputs": [],
   "source": [
    "# Save to csv\n",
    "df_merge.to_csv('fred_daily2.csv')"
   ]
  },
  {
   "cell_type": "code",
   "execution_count": null,
   "id": "c05153d5-756f-4fee-a50b-3a76c6ea0bf7",
   "metadata": {},
   "outputs": [],
   "source": [
    "# Useful csv methods:\n",
    "''' df_new.to_csv('test.csv')    # saves\n",
    "    df_read = pd.read_csv('test.csv')    # opens\n",
    "    df_read.set_index('Unnamed: 0', inplace=True)    # sets first column (unnamed) as index\n",
    "    df_read.index.rename('Date', inplace=True)    # names index 'Date'\n",
    "'''"
   ]
  }
 ],
 "metadata": {
  "kernelspec": {
   "display_name": "Python [conda env:base] *",
   "language": "python",
   "name": "conda-base-py"
  },
  "language_info": {
   "codemirror_mode": {
    "name": "ipython",
    "version": 3
   },
   "file_extension": ".py",
   "mimetype": "text/x-python",
   "name": "python",
   "nbconvert_exporter": "python",
   "pygments_lexer": "ipython3",
   "version": "3.12.7"
  }
 },
 "nbformat": 4,
 "nbformat_minor": 5
}
